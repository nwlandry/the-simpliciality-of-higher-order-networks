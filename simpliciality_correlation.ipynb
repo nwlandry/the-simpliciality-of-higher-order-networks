{
 "cells": [
  {
   "cell_type": "code",
   "execution_count": 1,
   "metadata": {},
   "outputs": [],
   "source": [
    "import json\n",
    "\n",
    "import numpy as np\n",
    "import pandas as pd\n",
    "import xgi\n",
    "from scipy.stats import pearsonr, spearmanr\n",
    "\n",
    "from sod import *"
   ]
  },
  {
   "cell_type": "markdown",
   "metadata": {},
   "source": [
    "# Global and local correlation measures"
   ]
  },
  {
   "cell_type": "markdown",
   "metadata": {},
   "source": [
    "### Global correlation measures\n",
    "\n",
    "First, we quantify the correlation between different measures of simpliciality on the corpus of higher-order datasets that we consider. "
   ]
  },
  {
   "cell_type": "code",
   "execution_count": null,
   "metadata": {},
   "outputs": [],
   "source": [
    "def load_data(filename=\"Data/empirical_simpliciality.json\"):\n",
    "    with open(filename, \"r\") as f:\n",
    "        data = json.load(f)\n",
    "    return data\n",
    "\n",
    "\n",
    "# Use the function to load the data\n",
    "data = load_data()\n",
    "\n",
    "\n",
    "# Convert the nested dictionary to a pandas DataFrame\n",
    "df = pd.DataFrame.from_dict(data, orient=\"index\")\n",
    "\n",
    "# Specify the columns to compute correlations for\n",
    "columns = [\"es\", \"fes\", \"sf\"]\n",
    "\n",
    "# Compute the correlations and p-values for each pair of columns\n",
    "results = {}\n",
    "for i in range(len(columns)):\n",
    "    for j in range(i + 1, len(columns)):\n",
    "        col1, col2 = columns[i], columns[j]\n",
    "\n",
    "        # Spearman's correlation\n",
    "        spearman_corr, spearman_p = spearmanr(df[col1], df[col2])\n",
    "        results[(col1, col2, \"spearman\")] = (spearman_corr, spearman_p)\n",
    "\n",
    "        # Pearson's correlation\n",
    "        pearson_corr, pearson_p = pearsonr(df[col1], df[col2])\n",
    "        results[(col1, col2, \"pearson\")] = (pearson_corr, pearson_p)\n",
    "\n",
    "# Print results\n",
    "for key, (corr, p_val) in results.items():\n",
    "    col1, col2, method = key\n",
    "    print(\n",
    "        f\"Correlation ({method}) between {col1} and {col2}: {corr:.4f}, p-value: {p_val:.4f}\"\n",
    "    )"
   ]
  },
  {
   "cell_type": "markdown",
   "metadata": {},
   "source": [
    "### Local correlations\n",
    "\n",
    "Now examining a single higher-order dataset, we look at the simplicial assortativity and the correlation between measures"
   ]
  },
  {
   "cell_type": "code",
   "execution_count": null,
   "metadata": {},
   "outputs": [],
   "source": [
    "dataset = \"email-enron\"\n",
    "max_order = 2\n",
    "\n",
    "H = xgi.load_xgi_data(dataset, max_order=max_order)\n",
    "H.cleanup()"
   ]
  },
  {
   "cell_type": "code",
   "execution_count": 4,
   "metadata": {},
   "outputs": [],
   "source": [
    "sf = H.nodes.local_simplicial_fraction.asnumpy()\n",
    "es = H.nodes.local_edit_simpliciality.asnumpy()\n",
    "fes = H.nodes.local_face_edit_simpliciality.asnumpy()"
   ]
  },
  {
   "cell_type": "code",
   "execution_count": null,
   "metadata": {},
   "outputs": [],
   "source": [
    "ls = {\"sf\": sf, \"es\": es, \"fes\": fes}\n",
    "results = {}\n",
    "\n",
    "for i, m1 in enumerate(ls):\n",
    "    for j, m2 in enumerate(ls):\n",
    "        if i < j:\n",
    "            # the measures are NaN in the same places\n",
    "            s1 = ls[m1][~np.isnan(ls[m1])]\n",
    "            s2 = ls[m2][~np.isnan(ls[m2])]\n",
    "\n",
    "            # Spearman's correlation\n",
    "            spearman_corr, spearman_p = spearmanr(s1, s2)\n",
    "            results[(m1, m2, \"spearman\")] = (spearman_corr, spearman_p)\n",
    "\n",
    "            # Pearson's correlation\n",
    "            pearson_corr, pearson_p = pearsonr(s1, s2)\n",
    "            results[(m1, m2, \"pearson\")] = (pearson_corr, pearson_p)\n",
    "\n",
    "# Print results\n",
    "for key, (corr, p_val) in results.items():\n",
    "    col1, col2, method = key\n",
    "    print(\n",
    "        f\"Correlation ({method}) between {col1} and {col2}: {corr:.4f}, p-value: {p_val:.4f}\"\n",
    "    )"
   ]
  }
 ],
 "metadata": {
  "kernelspec": {
   "display_name": "hyper",
   "language": "python",
   "name": "python3"
  },
  "language_info": {
   "codemirror_mode": {
    "name": "ipython",
    "version": 3
   },
   "file_extension": ".py",
   "mimetype": "text/x-python",
   "name": "python",
   "nbconvert_exporter": "python",
   "pygments_lexer": "ipython3",
   "version": "3.12.4"
  },
  "orig_nbformat": 4
 },
 "nbformat": 4,
 "nbformat_minor": 2
}
