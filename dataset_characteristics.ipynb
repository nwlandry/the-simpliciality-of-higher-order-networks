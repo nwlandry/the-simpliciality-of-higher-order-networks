{
 "cells": [
  {
   "cell_type": "code",
   "execution_count": 1,
   "metadata": {},
   "outputs": [],
   "source": [
    "import json\n",
    "\n",
    "import numpy as np\n",
    "import xgi"
   ]
  },
  {
   "cell_type": "code",
   "execution_count": 2,
   "metadata": {},
   "outputs": [],
   "source": [
    "datasets = [\n",
    "    \"contact-primary-school\",\n",
    "    \"contact-high-school\",\n",
    "    \"hospital-lyon\",\n",
    "    \"email-enron\",\n",
    "    \"email-eu\",\n",
    "    \"coauth-mag-geology\",\n",
    "    \"coauth-mag-history\",\n",
    "    \"diseasome\",\n",
    "    \"disgenenet\",\n",
    "    \"ndc-substances\",\n",
    "    \"congress-bills\",\n",
    "    \"tags-ask-ubuntu\",\n",
    "]\n",
    "\n",
    "# This argument is very important to the computational feasibility of this algorithm\n",
    "max_size = 11"
   ]
  },
  {
   "cell_type": "code",
   "execution_count": null,
   "metadata": {},
   "outputs": [],
   "source": [
    "try:\n",
    "    with open(f\"Data/dataset_characteristics.json\", \"r\") as file:\n",
    "        data = json.loads(file.read())\n",
    "except:\n",
    "    data = dict()\n",
    "\n",
    "    for d in datasets:\n",
    "        data[d] = dict()\n",
    "        H = xgi.load_xgi_data(d, max_order=max_size - 1)\n",
    "        H.cleanup()\n",
    "\n",
    "        data[d][\"num-nodes\"] = H.num_nodes\n",
    "        data[d][\"num-edges\"] = H.num_edges\n",
    "        data[d][\"mean-degree\"] = H.num_edges / H.num_nodes\n",
    "        data[d][\"mean-edge-size\"] = H.edges.size.mean()\n",
    "\n",
    "        print(\"Just finished \", d)\n",
    "\n",
    "    with open(f\"Data/dataset_characteristics.json\", \"w\") as file:\n",
    "        datastring = json.dumps(data, indent=2)\n",
    "        file.write(datastring)"
   ]
  },
  {
   "cell_type": "code",
   "execution_count": null,
   "metadata": {},
   "outputs": [],
   "source": [
    "for name in datasets:\n",
    "    d = data[name]\n",
    "    print(\n",
    "        f\"{name} & {d['num-nodes']} & {d['num-edges']} & {round(d['mean-degree'], 2)} & {round(d['mean-edge-size'], 2)}\"\n",
    "    )"
   ]
  },
  {
   "cell_type": "code",
   "execution_count": null,
   "metadata": {},
   "outputs": [],
   "source": []
  }
 ],
 "metadata": {
  "kernelspec": {
   "display_name": "hyper",
   "language": "python",
   "name": "python3"
  },
  "language_info": {
   "codemirror_mode": {
    "name": "ipython",
    "version": 3
   },
   "file_extension": ".py",
   "mimetype": "text/x-python",
   "name": "python",
   "nbconvert_exporter": "python",
   "pygments_lexer": "ipython3",
   "version": "3.10.0"
  },
  "orig_nbformat": 4
 },
 "nbformat": 4,
 "nbformat_minor": 2
}
