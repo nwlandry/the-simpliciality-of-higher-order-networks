{
 "cells": [
  {
   "cell_type": "code",
   "execution_count": 1,
   "metadata": {},
   "outputs": [],
   "source": [
    "import json\n",
    "\n",
    "import matplotlib.pyplot as plt\n",
    "import seaborn as sns"
   ]
  },
  {
   "cell_type": "code",
   "execution_count": 2,
   "metadata": {},
   "outputs": [],
   "source": [
    "with open(\"Data/cm_convergence.json\", \"r\") as file:\n",
    "    data = json.loads(file.read())"
   ]
  },
  {
   "cell_type": "code",
   "execution_count": null,
   "metadata": {},
   "outputs": [],
   "source": [
    "plt.figure(figsize=(8, 6))\n",
    "for i, d in enumerate(data):\n",
    "    plt.subplot(2, 2, i + 1)\n",
    "\n",
    "    num_swaps = data[d][\"num-swaps\"]\n",
    "    sf = data[d][\"sf\"]\n",
    "    es = data[d][\"es\"]\n",
    "    fes = data[d][\"fes\"]\n",
    "\n",
    "    plt.title(d)\n",
    "\n",
    "    plt.semilogx(num_swaps, fes, \"ko-\", linewidth=1, label=\"FES\")\n",
    "    plt.semilogx(num_swaps, es, \"ks-\", linewidth=1, label=\"ES\")\n",
    "    plt.semilogx(num_swaps, sf, \"k^-\", linewidth=1, label=\"SF\")\n",
    "    # plt.ylim([0, 1])\n",
    "\n",
    "    plt.xlabel(\"Number of edge swaps\")\n",
    "    plt.ylabel(\"Simpliciality\")\n",
    "plt.legend()\n",
    "sns.despine()\n",
    "plt.tight_layout()\n",
    "\n",
    "plt.savefig(\"Figures/Fig4/cm_convergence.png\", dpi=1000)\n",
    "plt.savefig(\"Figures/Fig4/cm_convergence.pdf\", dpi=1000)"
   ]
  }
 ],
 "metadata": {
  "kernelspec": {
   "display_name": "hyper",
   "language": "python",
   "name": "python3"
  },
  "language_info": {
   "codemirror_mode": {
    "name": "ipython",
    "version": 3
   },
   "file_extension": ".py",
   "mimetype": "text/x-python",
   "name": "python",
   "nbconvert_exporter": "python",
   "pygments_lexer": "ipython3",
   "version": "3.10.0"
  }
 },
 "nbformat": 4,
 "nbformat_minor": 2
}
