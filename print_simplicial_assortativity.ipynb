{
 "cells": [
  {
   "cell_type": "code",
   "execution_count": 10,
   "metadata": {},
   "outputs": [],
   "source": [
    "import json\n",
    "\n",
    "from sod import *"
   ]
  },
  {
   "cell_type": "code",
   "execution_count": 11,
   "metadata": {},
   "outputs": [],
   "source": [
    "with open(\"Data/empirical_simplicial_assortativity.json\", \"r\") as file:\n",
    "    data = json.loads(file.read())"
   ]
  },
  {
   "cell_type": "code",
   "execution_count": 18,
   "metadata": {},
   "outputs": [],
   "source": [
    "rows = []\n",
    "for dataset, d in data.items():\n",
    "    rows.append([f\"\\\\texttt{{{dataset}}}\", d[\"sf\"], d[\"es\"], d[\"fes\"]])\n",
    "\n",
    "column_labels = [\n",
    "    \"Dataset\",\n",
    "    \"$\\\\rho_{\\mathrm{SF}}$\",\n",
    "    \"$\\\\rho_{\\mathrm{SF}}$\",\n",
    "    \"$\\\\rho_{\\mathrm{SF}}$\",\n",
    "]"
   ]
  },
  {
   "cell_type": "code",
   "execution_count": 19,
   "metadata": {},
   "outputs": [
    {
     "name": "stdout",
     "output_type": "stream",
     "text": [
      "\\begin{table}\n",
      "\\begin{center}\n",
      "\\begin{tabular}{cccc}\n",
      "Dataset & $\\rho_{\\mathrm{SF}}$ & $\\rho_{\\mathrm{SF}}$ & $\\rho_{\\mathrm{SF}}$ \\\\ \n",
      "\\hline\n",
      "\\texttt{contact-primary-school} & 0.15 & 0.15 & 0.14 \\\\ \n",
      "\\texttt{contact-high-school} & 0.22 & 0.34 & 0.24 \\\\ \n",
      "\\texttt{hospital-lyon} & -0.02 & -0.02 & -0.01 \\\\ \n",
      "\\texttt{email-enron} & 0.29 & 0.29 & 0.24 \\\\ \n",
      "\\texttt{email-eu} & 0.19 & 0.16 & 0.16 \\\\ \n",
      "\\texttt{ndc-substances} & 0.57 & 0.65 & 0.72 \\\\ \n",
      "\\texttt{diseasome} & nan & 0.46 & 0.75 \\\\ \n",
      "\\texttt{disgenenet} & nan & 0.55 & 0.89 \\\\ \n",
      "\\texttt{congress-bills} & 0.78 & 0.48 & 0.75 \\\\ \n",
      "\\texttt{tags-ask-ubuntu} & -0.03 & -0.08 & 0.04 \\\\ \n",
      "\\end{tabular}\n",
      "\\end{center}\n",
      "\\end{table}\n"
     ]
    }
   ],
   "source": [
    "list_of_lists_to_latex_table(rows, column_labels)"
   ]
  }
 ],
 "metadata": {
  "kernelspec": {
   "display_name": "hyper",
   "language": "python",
   "name": "python3"
  },
  "language_info": {
   "codemirror_mode": {
    "name": "ipython",
    "version": 3
   },
   "file_extension": ".py",
   "mimetype": "text/x-python",
   "name": "python",
   "nbconvert_exporter": "python",
   "pygments_lexer": "ipython3",
   "version": "3.10.0"
  }
 },
 "nbformat": 4,
 "nbformat_minor": 2
}
