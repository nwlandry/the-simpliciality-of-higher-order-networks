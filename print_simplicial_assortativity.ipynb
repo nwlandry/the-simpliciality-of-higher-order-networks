{
 "cells": [
  {
   "cell_type": "code",
   "execution_count": 10,
   "metadata": {},
   "outputs": [],
   "source": [
    "import json\n",
    "\n",
    "from sod import *"
   ]
  },
  {
   "cell_type": "code",
   "execution_count": 11,
   "metadata": {},
   "outputs": [],
   "source": [
    "with open(\"Data/empirical_simplicial_assortativity.json\", \"r\") as file:\n",
    "    data = json.loads(file.read())"
   ]
  },
  {
   "cell_type": "code",
   "execution_count": 18,
   "metadata": {},
   "outputs": [],
   "source": [
    "rows = []\n",
    "for dataset, d in data.items():\n",
    "    rows.append([f\"\\\\texttt{{{dataset}}}\", d[\"sf\"], d[\"es\"], d[\"fes\"]])\n",
    "\n",
    "column_labels = [\n",
    "    \"Dataset\",\n",
    "    \"$\\\\rho_{\\mathrm{SF}}$\",\n",
    "    \"$\\\\rho_{\\mathrm{SF}}$\",\n",
    "    \"$\\\\rho_{\\mathrm{SF}}$\",\n",
    "]"
   ]
  },
  {
   "cell_type": "code",
   "execution_count": null,
   "metadata": {},
   "outputs": [],
   "source": [
    "list_of_lists_to_latex_table(rows, column_labels)"
   ]
  }
 ],
 "metadata": {
  "kernelspec": {
   "display_name": "hyper",
   "language": "python",
   "name": "python3"
  },
  "language_info": {
   "codemirror_mode": {
    "name": "ipython",
    "version": 3
   },
   "file_extension": ".py",
   "mimetype": "text/x-python",
   "name": "python",
   "nbconvert_exporter": "python",
   "pygments_lexer": "ipython3",
   "version": "3.10.0"
  }
 },
 "nbformat": 4,
 "nbformat_minor": 2
}
